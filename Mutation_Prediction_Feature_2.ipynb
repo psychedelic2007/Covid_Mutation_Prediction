{
 "cells": [
  {
   "cell_type": "code",
   "execution_count": 8,
   "id": "c1a8b569",
   "metadata": {},
   "outputs": [
    {
     "name": "stdout",
     "output_type": "stream",
     "text": [
      "Total length of sequence is :: 1271\n",
      "The number of A in sequence is :: 78\n"
     ]
    }
   ],
   "source": [
    "'''Original Author @Satyam Sangeet\n",
    "contact - satyam_verma20@yahoo.in\n",
    "\n",
    "This file generates the second feature for the model training. The details about the feature can be found in\n",
    "features.pdf'''\n",
    "\n",
    "import numpy as np\n",
    "\n",
    "s = \"MFVFLVLLPLVSSQCVNLRTRTQLPPAYTNSFTRGVYYPDKVFRSSVLHSTQDLFLPFFSNVTWFHAIHVSGTNGTKRFDNPVLPFNDGVYFASTEKSNIIRGWIFGTTLDSKTQSLLIVNNATNVVIKVCEFQFCNDPFLDVYYHKNNKSWMESGVYSSANNCTFEYVSQPFLMDLEGKQGNFKNLREFVFKNIDGYFKIYSKHTPINLVRDLPQGFSALEPLVDLPIGINITRFQTLLALHRSYLTPGDSSSGWTAGAAAYYVGYLQPRTFLLKYNENGTITDAVDCALDPLSETKCTLKSFTVEKGIYQTSNFRVQPTESIVRFPNITNLCPFGEVFNATRFASVYAWNRKRISNCVADYSVLYNSASFSTFKCYGVSPTKLNDLCFTNVYADSFVIRGDEVRQIAPGQTGKIADYNYKLPDDFTGCVIAWNSNNLDSKVGGNYNYRYRLFRKSNLKPFERDISTEIYQAGSKPCNGVEGFNCYFPLQSYGFQPTNGVGYQPYRVVVLSFELLHAPATVCGPKKSTNLVKNKCVNFNFNGLTGTGVLTESNKKFLPFQQFGRDIADTTDAVRDPQTLEILDITPCSFGGVSVITPGTNTSNQVAVLYQGVNCTEVPVAIHADQLTPTWRVYSTGSNVFQTRAGCLIGAEHVNNSYECDIPIGAGICASYQTQTNSRRRARSVASQSIIAYTMSLGAENSVAYSNNSIAIPTNFTISVTTEILPVSMTKTSVDCTMYICGDSTECSNLLLQYGSFCTQLNRALTGIAVEQDKNTQEVFAQVKQIYKTPPIKDFGGFNFSQILPDPSKPSKRSFIEDLLFNKVTLADAGFIKQYGDCLGDIAARDLICAQKFNGLTVLPPLLTDEMIAQYTSALLAGTITSGWTFGAGAALQIPFAMQMAYRFNGIGVTQNVLYENQKLIANQFNSAIGKIQDSLSSTASALGKLQDVVNQNAQALNTLVKQLSSNFGAISSVLNDILSRLDKVEAEVQIDRLITGRLQSLQTYVTQQLIRAAEIRSSANLAATKMSECVLGQSKRVDFCGKGYHLMSFPQSAPHGVVFLHVTYVPAQEKNFTTAPAICHDGKAHFPREGVFVSNGTHWFVTQRNFYEPQIITTDNTFVSGNCDVVIGIVNNTVYDPLQPELDSFKEELDKYFKNHTSPDVDLGDISGINASVVNIQKEIDRLNEVAKNLNESLIDLQELGKYEQYIKWPWYIWLGFIAGLIAIVMVTIMLCCMTSCCSCLKGCCSCGSCCKFDEDDSEPVLKGVKLHYT\"\n",
    "amino = \"A\"\n",
    "print(\"Total length of sequence is ::\", len(s))\n",
    "print(\"The number of A in sequence is ::\",s.count(amino))"
   ]
  },
  {
   "cell_type": "code",
   "execution_count": 16,
   "id": "379350d1",
   "metadata": {},
   "outputs": [
    {
     "name": "stdout",
     "output_type": "stream",
     "text": [
      "16\n"
     ]
    }
   ],
   "source": [
    "partition = round((len(s)/s.count(amino)))\n",
    "print(partition)"
   ]
  },
  {
   "cell_type": "code",
   "execution_count": 17,
   "id": "570bbe29",
   "metadata": {},
   "outputs": [
    {
     "name": "stdout",
     "output_type": "stream",
     "text": [
      "['MFVFLVLLPLVSSQCV', 'NLRTRTQLPPAYTNSF', 'TRGVYYPDKVFRSSVL', 'HSTQDLFLPFFSNVTW', 'FHAIHVSGTNGTKRFD', 'NPVLPFNDGVYFASTE', 'KSNIIRGWIFGTTLDS', 'KTQSLLIVNNATNVVI', 'KVCEFQFCNDPFLDVY', 'YHKNNKSWMESGVYSS', 'ANNCTFEYVSQPFLMD', 'LEGKQGNFKNLREFVF', 'KNIDGYFKIYSKHTPI', 'NLVRDLPQGFSALEPL', 'VDLPIGINITRFQTLL', 'ALHRSYLTPGDSSSGW', 'TAGAAAYYVGYLQPRT', 'FLLKYNENGTITDAVD', 'CALDPLSETKCTLKSF', 'TVEKGIYQTSNFRVQP', 'TESIVRFPNITNLCPF', 'GEVFNATRFASVYAWN', 'RKRISNCVADYSVLYN', 'SASFSTFKCYGVSPTK', 'LNDLCFTNVYADSFVI', 'RGDEVRQIAPGQTGKI', 'ADYNYKLPDDFTGCVI', 'AWNSNNLDSKVGGNYN', 'YRYRLFRKSNLKPFER', 'DISTEIYQAGSKPCNG', 'VEGFNCYFPLQSYGFQ', 'PTNGVGYQPYRVVVLS', 'FELLHAPATVCGPKKS', 'TNLVKNKCVNFNFNGL', 'TGTGVLTESNKKFLPF', 'QQFGRDIADTTDAVRD', 'PQTLEILDITPCSFGG', 'VSVITPGTNTSNQVAV', 'LYQGVNCTEVPVAIHA', 'DQLTPTWRVYSTGSNV', 'FQTRAGCLIGAEHVNN', 'SYECDIPIGAGICASY', 'QTQTNSRRRARSVASQ', 'SIIAYTMSLGAENSVA', 'YSNNSIAIPTNFTISV', 'TTEILPVSMTKTSVDC', 'TMYICGDSTECSNLLL', 'QYGSFCTQLNRALTGI', 'AVEQDKNTQEVFAQVK', 'QIYKTPPIKDFGGFNF', 'SQILPDPSKPSKRSFI', 'EDLLFNKVTLADAGFI', 'KQYGDCLGDIAARDLI', 'CAQKFNGLTVLPPLLT', 'DEMIAQYTSALLAGTI', 'TSGWTFGAGAALQIPF', 'AMQMAYRFNGIGVTQN', 'VLYENQKLIANQFNSA', 'IGKIQDSLSSTASALG', 'KLQDVVNQNAQALNTL', 'VKQLSSNFGAISSVLN', 'DILSRLDKVEAEVQID', 'RLITGRLQSLQTYVTQ', 'QLIRAAEIRSSANLAA', 'TKMSECVLGQSKRVDF', 'CGKGYHLMSFPQSAPH', 'GVVFLHVTYVPAQEKN', 'FTTAPAICHDGKAHFP', 'REGVFVSNGTHWFVTQ', 'RNFYEPQIITTDNTFV', 'SGNCDVVIGIVNNTVY', 'DPLQPELDSFKEELDK', 'YFKNHTSPDVDLGDIS', 'GINASVVNIQKEIDRL', 'NEVAKNLNESLIDLQE', 'LGKYEQYIKWPWYIWL', 'GFIAGLIAIVMVTIML', 'CCMTSCCSCLKGCCSC', 'GSCCKFDEDDSEPVLK', 'GVKLHYT']\n"
     ]
    }
   ],
   "source": [
    "g = []\n",
    "chunks, chunk_size = len(s), partition\n",
    "for i in range(0, chunks, chunk_size):\n",
    "    x = s[i:i+chunk_size]\n",
    "    g.append(x)\n",
    "print(g)"
   ]
  },
  {
   "cell_type": "code",
   "execution_count": 18,
   "id": "7aba4629",
   "metadata": {
    "scrolled": true
   },
   "outputs": [
    {
     "name": "stdout",
     "output_type": "stream",
     "text": [
      "80\n"
     ]
    }
   ],
   "source": [
    "print(len(g))"
   ]
  },
  {
   "cell_type": "code",
   "execution_count": 12,
   "id": "324fdf28",
   "metadata": {},
   "outputs": [
    {
     "name": "stdout",
     "output_type": "stream",
     "text": [
      "The partition containing 0 Alanine is :: 33\n",
      "The partition containing 1 Alanine is :: 26\n",
      "The partition containing 2 Alanine is :: 14\n",
      "The partition containing 3 Alanine is :: 5\n",
      "The partition containing 4 Alanine is :: 1\n",
      "The partition containing 5 Alanine is :: 1\n"
     ]
    }
   ],
   "source": [
    "count_0 = 0\n",
    "count_1 = 0\n",
    "count_2 = 0\n",
    "count_3 = 0\n",
    "count_4 = 0\n",
    "count_5 = 0\n",
    "c0 = []\n",
    "c1 = []\n",
    "c2 = []\n",
    "c3 = []\n",
    "c4 = []\n",
    "c5 = []\n",
    "for z in range(0,len(g)):\n",
    "    b = g[z].count(amino)\n",
    "    if(b==0):\n",
    "        count_0 +=1\n",
    "        c0.append(count_0)\n",
    "    elif(b==1):\n",
    "        count_1 +=1\n",
    "        c1.append(count_1)\n",
    "    elif(b==2):\n",
    "        count_2 +=1\n",
    "        c2.append(count_2)\n",
    "    elif(b==3):\n",
    "        count_3 +=1\n",
    "        c3.append(count_3)\n",
    "    elif(b==4):\n",
    "        count_4 +=1\n",
    "        c4.append(count_4)\n",
    "    elif(b==5):\n",
    "        count_5 +=1\n",
    "        c5.append(count_5)\n",
    "print(\"The partition containing 0 Alanine is ::\", len(c0))\n",
    "print(\"The partition containing 1 Alanine is ::\", len(c1))\n",
    "print(\"The partition containing 2 Alanine is ::\", len(c2))\n",
    "print(\"The partition containing 3 Alanine is ::\", len(c3))\n",
    "print(\"The partition containing 4 Alanine is ::\", len(c4))\n",
    "print(\"The partition containing 5 Alanine is ::\", len(c5))"
   ]
  },
  {
   "cell_type": "code",
   "execution_count": 13,
   "id": "dab8d23e",
   "metadata": {},
   "outputs": [],
   "source": [
    "def factorial(n):\n",
    "    if (n==1 or n==0):\n",
    "        return 1\n",
    "    else:\n",
    "        return n*factorial(n-1)"
   ]
  },
  {
   "cell_type": "code",
   "execution_count": 14,
   "id": "046dc504",
   "metadata": {},
   "outputs": [
    {
     "name": "stdout",
     "output_type": "stream",
     "text": [
      "3.4557260929452863e-07\n"
     ]
    }
   ],
   "source": [
    "r = s.count(amino)\n",
    "n = len(g)\n",
    "first = factorial(r)/(factorial(len(c0))*factorial(len(c1))*factorial(len(c2))*factorial(len(c3))*factorial(len(c4)))\n",
    "\n",
    "second_den = []\n",
    "for i in range(0,len(g)):\n",
    "    fact = factorial(g[i].count(amino))\n",
    "    second_den.append(fact)\n",
    "\n",
    "product = 1\n",
    "for item in second_den:\n",
    "    product = product*item\n",
    "second = factorial(r)/product\n",
    "third = n**(-r)\n",
    "final = first*second*third\n",
    "print(final)\n",
    "#print(second_den)\n",
    "#print(product)"
   ]
  },
  {
   "cell_type": "code",
   "execution_count": null,
   "id": "79db1b0d",
   "metadata": {},
   "outputs": [],
   "source": []
  }
 ],
 "metadata": {
  "kernelspec": {
   "display_name": "Python 3",
   "language": "python",
   "name": "python3"
  },
  "language_info": {
   "codemirror_mode": {
    "name": "ipython",
    "version": 3
   },
   "file_extension": ".py",
   "mimetype": "text/x-python",
   "name": "python",
   "nbconvert_exporter": "python",
   "pygments_lexer": "ipython3",
   "version": "3.7.3"
  }
 },
 "nbformat": 4,
 "nbformat_minor": 5
}
