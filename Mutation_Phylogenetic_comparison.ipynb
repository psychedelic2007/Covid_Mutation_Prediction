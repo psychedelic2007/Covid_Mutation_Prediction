{
 "cells": [
  {
   "cell_type": "code",
   "execution_count": 498,
   "id": "b69a601c",
   "metadata": {
    "scrolled": false
   },
   "outputs": [
    {
     "name": "stdout",
     "output_type": "stream",
     "text": [
      "char miss-match ('V', 'F') in element 69\n",
      "char miss-match ('K', 'N') in element 414\n",
      "False\n"
     ]
    }
   ],
   "source": [
    "'''Original Author @Satyam Sangeet\n",
    "contact - satyam_verma20@yahoo.in\n",
    "\n",
    "This file comares the sequences and generate the phylogenetic relationship between sequences. The details'''\n",
    "\n",
    "def compare_strings(a, b):\n",
    "    result = True\n",
    "    if len(a) != len(b):\n",
    "        print('string lengths do not match!')\n",
    "    for i, (x, y) in enumerate(zip(a, b)):\n",
    "        if x != y:\n",
    "            print(f'char miss-match {x, y} in element {i}')\n",
    "            result = False\n",
    "    if result:\n",
    "        print('strings match!')\n",
    "    return result\n",
    "\n",
    "s1 = \"MFVFLVLLPLVSSQCVNLRTRTQLPPAYTNSFTRGVYYPDKVFRSSVLHSTQDLFLPFFSNVTWFHAIHVSGTNGTKRFDNPVLPFNDGVYFASTEKSNIIRGWIFGTTLDSKTQSLLIVNNATNVVIKVCEFQFCNDPFLGVYYHKNNKSWMESGVYSSANNCTFEYVSQPFLMDLEGKQGNFKNLREFVFKNIDGYFKIYSKHTPINLVRDLPQGFSVLEPLVDLPIGINITRFQTLLALHRSYLTPGDSSSGWTAGAAAYYVGYLQPRTFLLKYNENGTITDAVDCALDPLSETKCTLKSFTVEKGIYQTSNFRVQPTESIVRFPNITNLCPFGEVFNATRFASVYAWNRKRISNCVADYSVLYNSASFSTFKCYGVSPTKLNDLCFTNVYADSFVIRGDEVRQIAPGQTGKIADYNYKLPDDFTGCVIAWNSNNLDSKVGGNYNYRYRLFRKSNLKPFERDISTEIYQAGSKPCNGVEGFNCYFPLQSYGFQPTNGVGYQPYRVVVLSFELLHAPATVCGPKKSTNLVKNKCVNFNFNGLTGTGVLTESNKKFLPFQQFGRDIADTTDAVRDPQTLEILDITPCSFGGVSVITPGTNTSNQVAVLYQGVNCTEVPVAIHADQLTPTWRVYSTGSNVFQTRAGCLIGAEHVNNSYECDIPIGAGICASYQTQTNSRRRARSVASQSIIAYTMSLGAENSVAYSNNSIA\"\n",
    "s2 = \"MFVFLVLLPLVSSQCVNLRTRTQLPPAYTNSFTRGVYYPDKVFRSSVLHSTQDLFLPFFSNVTWFHAIHFSGTNGTKRFDNPVLPFNDGVYFASTEKSNIIRGWIFGTTLDSKTQSLLIVNNATNVVIKVCEFQFCNDPFLGVYYHKNNKSWMESGVYSSANNCTFEYVSQPFLMDLEGKQGNFKNLREFVFKNIDGYFKIYSKHTPINLVRDLPQGFSVLEPLVDLPIGINITRFQTLLALHRSYLTPGDSSSGWTAGAAAYYVGYLQPRTFLLKYNENGTITDAVDCALDPLSETKCTLKSFTVEKGIYQTSNFRVQPTESIVRFPNITNLCPFGEVFNATRFASVYAWNRKRISNCVADYSVLYNSASFSTFKCYGVSPTKLNDLCFTNVYADSFVIRGDEVRQIAPGQTGNIADYNYKLPDDFTGCVIAWNSNNLDSKVGGNYNYRYRLFRKSNLKPFERDISTEIYQAGSKPCNGVEGFNCYFPLQSYGFQPTNGVGYQPYRVVVLSFELLHAPATVCGPKKSTNLVKNKCVNFNFNGLTGTGVLTESNKKFLPFQQFGRDIADTTDAVRDPQTLEILDITPCSFGGVSVITPGTNTSNQVAVLYQGVNCTEVPVAIHADQLTPTWRVYSTGSNVFQTRAGCLIGAEHVNNSYECDIPIGAGICASYQTQTNSRRRARSVASQSIIAYTMSLGAENSVAYSNNSIA\"\n",
    "x = compare_strings(s1,s2)\n",
    "print(x)\n",
    "#print(len(s1))\n",
    "#print(len(s2))"
   ]
  },
  {
   "cell_type": "code",
   "execution_count": 478,
   "id": "4c8327b6",
   "metadata": {},
   "outputs": [
    {
     "data": {
      "text/html": [
       "<div>\n",
       "<style scoped>\n",
       "    .dataframe tbody tr th:only-of-type {\n",
       "        vertical-align: middle;\n",
       "    }\n",
       "\n",
       "    .dataframe tbody tr th {\n",
       "        vertical-align: top;\n",
       "    }\n",
       "\n",
       "    .dataframe thead th {\n",
       "        text-align: right;\n",
       "    }\n",
       "</style>\n",
       "<table border=\"1\" class=\"dataframe\">\n",
       "  <thead>\n",
       "    <tr style=\"text-align: right;\">\n",
       "      <th></th>\n",
       "      <th>Sequence</th>\n",
       "      <th>in1</th>\n",
       "      <th>in2</th>\n",
       "      <th>in3</th>\n",
       "      <th>in4</th>\n",
       "      <th>Output</th>\n",
       "    </tr>\n",
       "  </thead>\n",
       "  <tbody>\n",
       "    <tr>\n",
       "      <th>0</th>\n",
       "      <td>M</td>\n",
       "      <td>1</td>\n",
       "      <td>1.098612</td>\n",
       "      <td>10.805556</td>\n",
       "      <td>0.000000</td>\n",
       "      <td>0</td>\n",
       "    </tr>\n",
       "    <tr>\n",
       "      <th>1</th>\n",
       "      <td>F</td>\n",
       "      <td>0</td>\n",
       "      <td>0.581922</td>\n",
       "      <td>0.972222</td>\n",
       "      <td>0.000000</td>\n",
       "      <td>0</td>\n",
       "    </tr>\n",
       "    <tr>\n",
       "      <th>2</th>\n",
       "      <td>V</td>\n",
       "      <td>0</td>\n",
       "      <td>0.927877</td>\n",
       "      <td>0.803161</td>\n",
       "      <td>0.000000</td>\n",
       "      <td>0</td>\n",
       "    </tr>\n",
       "    <tr>\n",
       "      <th>3</th>\n",
       "      <td>F</td>\n",
       "      <td>3</td>\n",
       "      <td>0.581922</td>\n",
       "      <td>0.972222</td>\n",
       "      <td>0.000000</td>\n",
       "      <td>0</td>\n",
       "    </tr>\n",
       "    <tr>\n",
       "      <th>4</th>\n",
       "      <td>L</td>\n",
       "      <td>3</td>\n",
       "      <td>1.309754</td>\n",
       "      <td>0.763032</td>\n",
       "      <td>0.172037</td>\n",
       "      <td>0</td>\n",
       "    </tr>\n",
       "  </tbody>\n",
       "</table>\n",
       "</div>"
      ],
      "text/plain": [
       "  Sequence  in1       in2        in3       in4  Output\n",
       "0        M    1  1.098612  10.805556  0.000000       0\n",
       "1        F    0  0.581922   0.972222  0.000000       0\n",
       "2        V    0  0.927877   0.803161  0.000000       0\n",
       "3        F    3  0.581922   0.972222  0.000000       0\n",
       "4        L    3  1.309754   0.763032  0.172037       0"
      ]
     },
     "execution_count": 478,
     "metadata": {},
     "output_type": "execute_result"
    }
   ],
   "source": [
    "import pandas as pd\n",
    "import csv\n",
    "\n",
    "nos = 95\n",
    "df = pd.read_csv(\"/home/satyam/Documents/Mutation_Prediction/Delta/Training_Data_20oct/Final_185/mltrain_csvfiles/seq%i.csv\" %nos)\n",
    "df.head()"
   ]
  },
  {
   "cell_type": "code",
   "execution_count": 473,
   "id": "0f42be2f",
   "metadata": {},
   "outputs": [],
   "source": [
    "for a in range(0,711):\n",
    "    if(a==76):\n",
    "        df.at[a, 'Output'] = 1\n",
    "    else:\n",
    "        df.at[a, 'Output'] = 0"
   ]
  },
  {
   "cell_type": "code",
   "execution_count": 474,
   "id": "97225c4e",
   "metadata": {},
   "outputs": [
    {
     "data": {
      "text/html": [
       "<div>\n",
       "<style scoped>\n",
       "    .dataframe tbody tr th:only-of-type {\n",
       "        vertical-align: middle;\n",
       "    }\n",
       "\n",
       "    .dataframe tbody tr th {\n",
       "        vertical-align: top;\n",
       "    }\n",
       "\n",
       "    .dataframe thead th {\n",
       "        text-align: right;\n",
       "    }\n",
       "</style>\n",
       "<table border=\"1\" class=\"dataframe\">\n",
       "  <thead>\n",
       "    <tr style=\"text-align: right;\">\n",
       "      <th></th>\n",
       "      <th>Sequence</th>\n",
       "      <th>in1</th>\n",
       "      <th>in2</th>\n",
       "      <th>in3</th>\n",
       "      <th>in4</th>\n",
       "      <th>Output</th>\n",
       "    </tr>\n",
       "  </thead>\n",
       "  <tbody>\n",
       "    <tr>\n",
       "      <th>0</th>\n",
       "      <td>M</td>\n",
       "      <td>1</td>\n",
       "      <td>1.098612</td>\n",
       "      <td>10.805556</td>\n",
       "      <td>-0.000000</td>\n",
       "      <td>0.0</td>\n",
       "    </tr>\n",
       "    <tr>\n",
       "      <th>1</th>\n",
       "      <td>F</td>\n",
       "      <td>0</td>\n",
       "      <td>0.000000</td>\n",
       "      <td>0.969907</td>\n",
       "      <td>-0.000000</td>\n",
       "      <td>0.0</td>\n",
       "    </tr>\n",
       "    <tr>\n",
       "      <th>2</th>\n",
       "      <td>V</td>\n",
       "      <td>0</td>\n",
       "      <td>0.927877</td>\n",
       "      <td>0.805077</td>\n",
       "      <td>-0.000000</td>\n",
       "      <td>0.0</td>\n",
       "    </tr>\n",
       "    <tr>\n",
       "      <th>3</th>\n",
       "      <td>F</td>\n",
       "      <td>3</td>\n",
       "      <td>0.000000</td>\n",
       "      <td>0.969907</td>\n",
       "      <td>-0.000000</td>\n",
       "      <td>0.0</td>\n",
       "    </tr>\n",
       "    <tr>\n",
       "      <th>4</th>\n",
       "      <td>L</td>\n",
       "      <td>3</td>\n",
       "      <td>1.309754</td>\n",
       "      <td>0.762346</td>\n",
       "      <td>0.172037</td>\n",
       "      <td>0.0</td>\n",
       "    </tr>\n",
       "  </tbody>\n",
       "</table>\n",
       "</div>"
      ],
      "text/plain": [
       "  Sequence  in1       in2        in3       in4  Output\n",
       "0        M    1  1.098612  10.805556 -0.000000     0.0\n",
       "1        F    0  0.000000   0.969907 -0.000000     0.0\n",
       "2        V    0  0.927877   0.805077 -0.000000     0.0\n",
       "3        F    3  0.000000   0.969907 -0.000000     0.0\n",
       "4        L    3  1.309754   0.762346  0.172037     0.0"
      ]
     },
     "execution_count": 474,
     "metadata": {},
     "output_type": "execute_result"
    }
   ],
   "source": [
    "df.head()"
   ]
  },
  {
   "cell_type": "code",
   "execution_count": 475,
   "id": "a8eff1b9",
   "metadata": {},
   "outputs": [],
   "source": [
    "df.to_csv(r\"/home/satyam/Documents/Mutation_Prediction/Delta/Training_Data_20oct/Final_185/mltrain_csvfiles/seq%i.csv\" %nos)"
   ]
  },
  {
   "cell_type": "code",
   "execution_count": 502,
   "id": "98a66fe5",
   "metadata": {},
   "outputs": [],
   "source": [
    "for nos in range(3,118): \n",
    "    df = pd.read_csv(r\"/home/satyam/Documents/Mutation_Prediction/Delta/Training_Data_20oct/Final_185/mltrain_csvfiles/seq%i.csv\" %nos)\n",
    "    # If you know the name of the column skip this\n",
    "    first_column = df.columns[0]\n",
    "    # Delete first\n",
    "    df = df.drop([first_column], axis=1)\n",
    "    df.to_csv(r\"/home/satyam/Documents/Mutation_Prediction/Delta/Training_Data_20oct/Final_185/mltrain_csvfiles/seq%i.csv\" %nos, index=False)"
   ]
  },
  {
   "cell_type": "code",
   "execution_count": null,
   "id": "8547faa3",
   "metadata": {},
   "outputs": [],
   "source": []
  }
 ],
 "metadata": {
  "kernelspec": {
   "display_name": "Python 3",
   "language": "python",
   "name": "python3"
  },
  "language_info": {
   "codemirror_mode": {
    "name": "ipython",
    "version": 3
   },
   "file_extension": ".py",
   "mimetype": "text/x-python",
   "name": "python",
   "nbconvert_exporter": "python",
   "pygments_lexer": "ipython3",
   "version": "3.7.3"
  }
 },
 "nbformat": 4,
 "nbformat_minor": 5
}
